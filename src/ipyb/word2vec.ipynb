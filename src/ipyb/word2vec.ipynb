{
 "cells": [
  {
   "cell_type": "code",
   "execution_count": 2,
   "metadata": {
    "collapsed": true
   },
   "outputs": [],
   "source": [
    "from __future__ import absolute_import\n",
    "import tensorflow as tf\n",
    "import numpy as np\n",
    "import random\n",
    "import math\n",
    "import collections\n",
    "import sqlite3\n",
    "import tqdm"
   ]
  },
  {
   "cell_type": "code",
   "execution_count": 3,
   "metadata": {
    "collapsed": true
   },
   "outputs": [],
   "source": [
    "conn = sqlite3.connect('berita.db')\n",
    "c    = conn.cursor()"
   ]
  },
  {
   "cell_type": "code",
   "execution_count": 4,
   "metadata": {
    "collapsed": true
   },
   "outputs": [],
   "source": [
    "c.execute(\"SELECT Text,Url FROM berita\")\n",
    "q = c.fetchall()"
   ]
  },
  {
   "cell_type": "code",
   "execution_count": 5,
   "metadata": {
    "collapsed": true
   },
   "outputs": [],
   "source": [
    "def cleanWhitespace(text):\n",
    "    length = len(text)\n",
    "    while True:\n",
    "        text = text.replace(\"  \",\" \")\n",
    "        if len(text) == length:\n",
    "            break\n",
    "        length = len(text)\n",
    "    return text"
   ]
  },
  {
   "cell_type": "code",
   "execution_count": 6,
   "metadata": {
    "collapsed": true
   },
   "outputs": [],
   "source": [
    "text = [cleanWhitespace(I[0]) for I in q]\n",
    "url  = [I[1] for I in q]"
   ]
  },
  {
   "cell_type": "code",
   "execution_count": 7,
   "metadata": {
    "collapsed": true
   },
   "outputs": [],
   "source": [
    "def createData(text,topWord):\n",
    "    text = [I.split(\" \") for I in text]\n",
    "    counter = collections.Counter()\n",
    "    for I in text:\n",
    "        counter.update(I)\n",
    "    w =  counter.most_common(topWord-1)\n",
    "    for I in range(len(w)):\n",
    "        if w[I][1] < 5:\n",
    "            w = w[:I]\n",
    "            break\n",
    "    wordList= [I[0] for I in w]\n",
    "    keyMapping = {}\n",
    "    unk = 0\n",
    "    for I in range(len(wordList)):\n",
    "        keyMapping[wordList[I]] = len(keyMapping) + 1\n",
    "    data = []\n",
    "    for I in text:\n",
    "        data.append([])\n",
    "        for J in I:\n",
    "            if J in keyMapping:\n",
    "                data[-1].append(keyMapping[J])\n",
    "            else:\n",
    "                data[-1].append(0)\n",
    "                unk += 1\n",
    "    return data , w , unk"
   ]
  },
  {
   "cell_type": "code",
   "execution_count": 8,
   "metadata": {
    "collapsed": true
   },
   "outputs": [],
   "source": [
    "hasil , keys , unk= createData(text,50000)"
   ]
  },
  {
   "cell_type": "code",
   "execution_count": 9,
   "metadata": {},
   "outputs": [
    {
     "data": {
      "text/plain": [
       "24131637"
      ]
     },
     "execution_count": 9,
     "metadata": {},
     "output_type": "execute_result"
    }
   ],
   "source": [
    "total = 0\n",
    "for I in hasil:\n",
    "    total += len(I)\n",
    "total"
   ]
  },
  {
   "cell_type": "code",
   "execution_count": 10,
   "metadata": {
    "collapsed": true
   },
   "outputs": [],
   "source": [
    "def discardProbability(p,count):\n",
    "    threshold = 1 - (p/count)**(0.5)\n",
    "    return threshold > random.random()"
   ]
  },
  {
   "cell_type": "code",
   "execution_count": 11,
   "metadata": {
    "collapsed": true
   },
   "outputs": [],
   "source": [
    "def constructData(data,p,keys,unk,space):\n",
    "    x = []\n",
    "    for I in data:\n",
    "        # Undersampling\n",
    "        left = []\n",
    "        for J in I:\n",
    "            if J == 0: #unknown\n",
    "                if not discardProbability(p,unk):\n",
    "                    left.append(J)\n",
    "            else:\n",
    "                if not discardProbability(p,keys[J-1][1]):\n",
    "                    left.append(J)\n",
    "        for J in range(len(left)):\n",
    "            w = left[J:J+space]\n",
    "            for K in range(1,len(w)):\n",
    "                x.append(np.array([w[0],w[K]]))\n",
    "                x.append(np.array([w[K],w[0]]))\n",
    "    return np.array(x)"
   ]
  },
  {
   "cell_type": "code",
   "execution_count": 12,
   "metadata": {
    "collapsed": true
   },
   "outputs": [],
   "source": [
    "x = constructData(hasil,100,keys,unk,5)"
   ]
  },
  {
   "cell_type": "code",
   "execution_count": 13,
   "metadata": {},
   "outputs": [
    {
     "data": {
      "text/plain": [
       "39048316"
      ]
     },
     "execution_count": 13,
     "metadata": {},
     "output_type": "execute_result"
    }
   ],
   "source": [
    "len(x)"
   ]
  },
  {
   "cell_type": "code",
   "execution_count": null,
   "metadata": {
    "collapsed": true
   },
   "outputs": [],
   "source": [
    "batch_size = 256\n",
    "embedding_size = 200\n",
    "vocabulary_size = len(keys) + 1\n",
    "num_sampled = 64    # Number of negative examples to sample.\n",
    "\n",
    "graph = tf.Graph()\n",
    "\n",
    "with graph.as_default():\n",
    "    train_inputs = tf.placeholder(tf.int32, shape=[batch_size])\n",
    "    train_labels = tf.placeholder(tf.int32, shape=[batch_size, 1])\n",
    "\n",
    "    with tf.device('/cpu:0'):\n",
    "        embeddings = tf.Variable(\n",
    "        tf.random_uniform([vocabulary_size, embedding_size], -1.0, 1.0))\n",
    "        embed = tf.nn.embedding_lookup(embeddings, train_inputs)\n",
    "\n",
    "        nce_weights = tf.Variable(tf.truncated_normal([vocabulary_size, embedding_size],\n",
    "                            stddev=1.0 / math.sqrt(embedding_size)))\n",
    "        nce_biases = tf.Variable(tf.zeros([vocabulary_size]))\n",
    "\n",
    "    loss = tf.reduce_mean(\n",
    "          tf.nn.nce_loss(weights=nce_weights,\n",
    "                     biases=nce_biases,\n",
    "                     labels=train_labels,\n",
    "                     inputs=embed,\n",
    "                     num_sampled=num_sampled,\n",
    "                     num_classes=vocabulary_size))\n",
    "    optimizer = tf.train.GradientDescentOptimizer(1.0).minimize(loss)\n",
    "    norm = tf.sqrt(tf.reduce_sum(tf.square(embeddings), 1, keep_dims=True))\n",
    "    normalized_embeddings = embeddings / norm\n",
    "\n",
    "\n",
    "    init = tf.global_variables_initializer()"
   ]
  },
  {
   "cell_type": "code",
   "execution_count": null,
   "metadata": {
    "collapsed": true
   },
   "outputs": [],
   "source": [
    "class batchInput:\n",
    "    def __init__(self,data,batchSize):\n",
    "        self.data = data.copy()\n",
    "        self.batchSize = batchSize\n",
    "        assert self.batchSize * 2 < len(data)\n",
    "        self.initData()\n",
    "    def initData(self):\n",
    "        self.index = 0\n",
    "        random.shuffle(self.data)\n",
    "    def call(self):\n",
    "        if self.index + self.batchSize > len(self.data):\n",
    "            self.initData()\n",
    "        self.index += self.batchSize\n",
    "        return self.data[self.index-self.batchSize:self.index]"
   ]
  },
  {
   "cell_type": "code",
   "execution_count": null,
   "metadata": {
    "collapsed": true,
    "scrolled": true
   },
   "outputs": [],
   "source": [
    "num_steps = 100001\n",
    "\n",
    "with tf.Session(graph=graph) as session:\n",
    "  # We must initialize all variables before we use them.\n",
    "    init.run()\n",
    "    print('Initialized')\n",
    "    batch = batchInput(x,batch_size)\n",
    "    average_loss = 0\n",
    "    t = tqdm.tqdm(total=num_steps)\n",
    "    for step in range(num_steps):\n",
    "        n = batch.call()\n",
    "        X = [I[0] for I in n]\n",
    "        y = np.ndarray(shape=(batch_size, 1), dtype=np.int32)\n",
    "        for I in range(len(n)):\n",
    "            y[I,0] = n[I][1]\n",
    "        feed_dict = {train_inputs: X, train_labels: y}\n",
    "\n",
    "        # We perform one update step by evaluating the optimizer op (including it\n",
    "        # in the list of returned values for session.run()\n",
    "        _, loss_val = session.run([optimizer, loss], feed_dict=feed_dict)\n",
    "        average_loss += loss_val\n",
    "        t.update()\n",
    "    final_embeddings = normalized_embeddings.eval()\n",
    "    cc = embeddings.eval()"
   ]
  },
  {
   "cell_type": "code",
   "execution_count": null,
   "metadata": {
    "collapsed": true,
    "scrolled": true
   },
   "outputs": [],
   "source": [
    "cc[1]"
   ]
  },
  {
   "cell_type": "code",
   "execution_count": null,
   "metadata": {
    "collapsed": true,
    "scrolled": true
   },
   "outputs": [],
   "source": [
    "len(final_embeddings[0])"
   ]
  },
  {
   "cell_type": "code",
   "execution_count": null,
   "metadata": {
    "collapsed": true,
    "scrolled": true
   },
   "outputs": [],
   "source": [
    "def plot_with_labels(low_dim_embs, labels):\n",
    "    assert low_dim_embs.shape[0] >= len(labels), 'More labels than embeddings'\n",
    "    plt.figure(figsize=(18, 18))  # in inches\n",
    "    for i, label in enumerate(labels):\n",
    "        x, y = low_dim_embs[i, :]\n",
    "        plt.scatter(x, y)\n",
    "        plt.annotate(label,\n",
    "                     xy=(x, y),\n",
    "                     xytext=(5, 2),\n",
    "                     textcoords='offset points',\n",
    "                     ha='right',\n",
    "                     va='bottom')\n",
    "    plt.show()\n",
    "\n",
    "try:\n",
    "    # pylint: disable=g-import-not-at-top\n",
    "    from sklearn.manifold import TSNE\n",
    "    import matplotlib.pyplot as plt\n",
    "\n",
    "    tsne = TSNE(perplexity=30, n_components=2, init='pca', n_iter=5000)\n",
    "    plot_only = 200\n",
    "    low_dim_embs = tsne.fit_transform(cc[:plot_only, :])\n",
    "    labels = [keys[i][0] for i in range(plot_only)]\n",
    "    plot_with_labels(low_dim_embs, labels)\n",
    "except ImportError:\n",
    "    print('Please install sklearn, matplotlib, and scipy to show embeddings.')"
   ]
  },
  {
   "cell_type": "code",
   "execution_count": null,
   "metadata": {
    "collapsed": true
   },
   "outputs": [],
   "source": [
    "hasil[0].count(0)"
   ]
  },
  {
   "cell_type": "code",
   "execution_count": null,
   "metadata": {
    "collapsed": true
   },
   "outputs": [],
   "source": [
    "def cosine_similarity(v1,v2):\n",
    "    sumxx, sumxy, sumyy = 0, 0, 0\n",
    "    for i in range(len(v1)):\n",
    "        x = v1[i]; y = v2[i]\n",
    "        sumxx += x*x\n",
    "        sumyy += y*y\n",
    "        sumxy += x*y\n",
    "    return sumxy/(sumxx*sumyy)*(0.5)"
   ]
  },
  {
   "cell_type": "code",
   "execution_count": null,
   "metadata": {
    "collapsed": true
   },
   "outputs": [],
   "source": [
    "def sigmoid(x):\n",
    "    return [256 // (1 + math.exp(-I)) for I in x]"
   ]
  },
  {
   "cell_type": "code",
   "execution_count": null,
   "metadata": {
    "collapsed": true
   },
   "outputs": [],
   "source": [
    "def word2Vec(sentence):\n",
    "    # Too lazy for lambdao\n",
    "    return [sigmoid(cc[I]) for I in sentence]"
   ]
  },
  {
   "cell_type": "code",
   "execution_count": null,
   "metadata": {
    "collapsed": true
   },
   "outputs": [],
   "source": [
    "def convertSentence(sentence):\n",
    "    if len(sentence) > 200:\n",
    "        while sentence.count(0) > 0 and len(sentence) > 200:\n",
    "            sentence.remove(0)\n",
    "        array = word2Vec(sentence)\n",
    "        if len(array) > 200:\n",
    "            cosList = []\n",
    "            for I in range(len(array)-1):\n",
    "                cosList.append(cosine_similarity(array[I],array[I+1]))\n",
    "            while len(array) > 200:\n",
    "                index = cosList.index(max(cosList))\n",
    "                # The index and index + 1 arrows is the closest one\n",
    "                # We take the max\n",
    "                array[index] = [max(array[index][I],array[index+1][I]) for I in range(len(array[0]))]\n",
    "                array.pop(index+1)\n",
    "                cosList.pop(index)\n",
    "                if index < len(cosList):\n",
    "                    cosList[index] = cosine_similarity(array[index],array[index+1])\n",
    "                if index > 0:\n",
    "                    cosList[index-1]= cosine_similarity(array[index],array[index-1])\n",
    "        return array        \n",
    "    elif len(sentence) < 200:\n",
    "        notZero = np.array(sentence) != 0\n",
    "        index = [int(I) for I in range(len(notZero)) if sentence[I]==True]\n",
    "        try:\n",
    "            overSampled = random.sample(index,200 - len(sentence))\n",
    "        except:\n",
    "            return None\n",
    "        overSampled.sort()\n",
    "        for J in range(len(overSampled)-1,-1,-1):\n",
    "            sentence.insert(overSampled[J],sentence[J])\n",
    "        return word2Vec(sentence)\n",
    "    else:\n",
    "        return word2Vec(sentence)"
   ]
  },
  {
   "cell_type": "code",
   "execution_count": null,
   "metadata": {
    "collapsed": true
   },
   "outputs": [],
   "source": [
    "from PIL import Image\n",
    "import numpy as np"
   ]
  },
  {
   "cell_type": "code",
   "execution_count": null,
   "metadata": {
    "collapsed": true,
    "scrolled": true
   },
   "outputs": [],
   "source": [
    "q = tqdm.tqdm_notebook(total=len(hasil))\n",
    "for I in range(len(hasil)):\n",
    "    result = convertSentence(hasil[I])\n",
    "    if result != None:\n",
    "        im = Image.fromarray(np.array(result),'L')\n",
    "        im.save('img\\\\'+ url[I].split(\"/\")[-1] + \".jpeg\", \"JPEG\")\n",
    "    q.update()"
   ]
  },
  {
   "cell_type": "code",
   "execution_count": null,
   "metadata": {
    "collapsed": true
   },
   "outputs": [],
   "source": [
    "help(tqdm.tqdm_notebook)"
   ]
  },
  {
   "cell_type": "code",
   "execution_count": null,
   "metadata": {
    "collapsed": true
   },
   "outputs": [],
   "source": []
  }
 ],
 "metadata": {
  "kernelspec": {
   "display_name": "Python 3",
   "language": "python",
   "name": "python3"
  },
  "language_info": {
   "codemirror_mode": {
    "name": "ipython",
    "version": 3
   },
   "file_extension": ".py",
   "mimetype": "text/x-python",
   "name": "python",
   "nbconvert_exporter": "python",
   "pygments_lexer": "ipython3",
   "version": "3.6.1"
  }
 },
 "nbformat": 4,
 "nbformat_minor": 2
}

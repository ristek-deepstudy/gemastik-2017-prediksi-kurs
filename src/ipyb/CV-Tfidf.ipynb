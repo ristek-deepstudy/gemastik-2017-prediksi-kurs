{
 "cells": [
  {
   "cell_type": "markdown",
   "metadata": {},
   "source": [
    "Importing libraries"
   ]
  },
  {
   "cell_type": "code",
   "execution_count": 1,
   "metadata": {
    "collapsed": true
   },
   "outputs": [],
   "source": [
    "from sklearn.feature_selection import SelectKBest\n",
    "from sklearn.feature_selection import chi2\n",
    "from sklearn.linear_model import LogisticRegression as LR\n",
    "from sklearn.feature_extraction.text import TfidfVectorizer as TV\n",
    "from sklearn.ensemble.gradient_boosting import GradientBoostingClassifier as GB\n",
    "from sklearn.ensemble import RandomForestClassifier as RFC\n",
    "from sklearn.svm import LinearSVC\n",
    "from sklearn.neighbors import KNeighborsClassifier as KNC\n",
    "from Database import Database\n",
    "from numpy import array\n",
    "from sklearn.naive_bayes import MultinomialNB as NB\n",
    "import sqlite3\n",
    "import tqdm\n",
    "import random"
   ]
  },
  {
   "cell_type": "markdown",
   "metadata": {},
   "source": [
    "And the data.\n",
    "\n",
    "If the currency would increases on the next period after the news is launched -> labeled + 1\n",
    "If the currnecy would decreases on the next period after the news is launched -> labeled - 1"
   ]
  },
  {
   "cell_type": "code",
   "execution_count": 2,
   "metadata": {
    "collapsed": true
   },
   "outputs": [],
   "source": [
    "conn = sqlite3.connect('berita.db')\n",
    "c = conn.cursor()\n",
    "c.execute(\"SELECT Text,Sentiment,Date,Clock From Berita \")\n",
    "result = c.fetchall()"
   ]
  },
  {
   "cell_type": "code",
   "execution_count": 3,
   "metadata": {
    "collapsed": true
   },
   "outputs": [],
   "source": [
    "X = []\n",
    "y = []\n",
    "for I in result:\n",
    "    X.append(I[0])\n",
    "    y.append(I[1])"
   ]
  },
  {
   "cell_type": "markdown",
   "metadata": {},
   "source": [
    "A good evaluation metric should be directly motivated by the problem.\n",
    "\n",
    "We find three charactherization:\n",
    "    \n",
    "    (1) Both false positive and false negative are harmful\n",
    "    \n",
    "    (2) The number of positive point and negative point fluctuates as condition of economy\n",
    "    \n",
    "    (3) The number of positive point and negative is not equal and the evaluation metric accomodates them.\n",
    "    \n",
    "We would like to think that mrc is the most suitable parameter compared to other parameters like F1 but also provides more intuitive information than AUROC."
   ]
  },
  {
   "cell_type": "code",
   "execution_count": 4,
   "metadata": {
    "collapsed": true
   },
   "outputs": [],
   "source": [
    "def mrc(pred,Y):\n",
    "    \n",
    "    pred = array(pred)\n",
    "    Y    = array(Y)\n",
    "    \n",
    "    TP, FP , TN, FN = 0,0,0,0\n",
    "    \n",
    "    for I in range(len(pred)):\n",
    "        if pred[I] == Y[I]:\n",
    "            if pred[I] == 1:\n",
    "                TP += 1\n",
    "            else:\n",
    "                TN += 1\n",
    "        else:\n",
    "            if pred[I] == -1:\n",
    "                FN += 1\n",
    "            else:\n",
    "                FP += 1\n",
    "    print(TP,FP,TN,FN)\n",
    "    try:\n",
    "        return ((TP*TN)-(FP*FN)) / ((TP+FP)*(TP+FN)*(TN+FP)*(TN+FN))**(0.5)\n",
    "    except:\n",
    "        return 0"
   ]
  },
  {
   "cell_type": "code",
   "execution_count": 5,
   "metadata": {
    "collapsed": true
   },
   "outputs": [],
   "source": [
    "#Custom class for GradientBoosting\n",
    "class Boosting():\n",
    "    def __init__(self):\n",
    "        self.clf = GB()\n",
    "    def fit(self,X,y):\n",
    "        self.clf.fit(X,y)\n",
    "    def predict(self,X):\n",
    "        m = int(X.shape[0] ** (0.5))\n",
    "        pred = []\n",
    "        for I in range(m):\n",
    "            pred.extend(self.clf.predict(X[I*X.shape[0]//m:(I+1)*X.shape[0]//m].toarray()))\n",
    "        return pred\n",
    "#Custom class for K Nearest Neighbor\n",
    "class Neighbors:\n",
    "    def __init__(self):\n",
    "        self.clf = KNC()\n",
    "    def fit(self,X,y):\n",
    "        self.clf.fit(X,y)\n",
    "    def predict(self,X):\n",
    "        m = int(X.shape[0] ** (0.5))\n",
    "        pred = []\n",
    "        for I in range(m):\n",
    "            pred.extend(self.clf.predict(X[I*X.shape[0]//m:(I+1)*X.shape[0]//m]))\n",
    "        return pred"
   ]
  },
  {
   "cell_type": "code",
   "execution_count": 6,
   "metadata": {
    "collapsed": true
   },
   "outputs": [],
   "source": [
    "clfOption = [Boosting(),LR(n_jobs = -1),NB(),LinearSVC(),Neighbors(),RFC()]"
   ]
  },
  {
   "cell_type": "markdown",
   "metadata": {},
   "source": [
    "We empoy nested cross validation.\n",
    "\n",
    "The first cross validation is to find the best feature selection\n",
    "\n",
    "The second cross validation is to evaluate the model.\n",
    "\n",
    "Both are 5-fold cross validation.\n",
    "\n",
    "However, on the training set of each cross validation, we would under sample the majority class to ensure 50/50 balance of the training set."
   ]
  },
  {
   "cell_type": "code",
   "execution_count": 7,
   "metadata": {
    "collapsed": true
   },
   "outputs": [],
   "source": [
    "def splitGroup(kFold):\n",
    "    #Me too lazy to plug in sklearn\n",
    "    assert len(X) == len(y)\n",
    "    index = [int(I) for I in range(len(X))]\n",
    "    random.shuffle(index)\n",
    "    group = [index[len(index)*I//kFold:len(index)*(I+1)//kFold] for I in range(kFold)]\n",
    "    return group"
   ]
  },
  {
   "cell_type": "code",
   "execution_count": 8,
   "metadata": {
    "collapsed": true
   },
   "outputs": [],
   "source": [
    "def balancedTrain(X,y):\n",
    "    balancedX = []\n",
    "    balancedY = []\n",
    "    \n",
    "    index = {}\n",
    "    \n",
    "    assert len(X) == len(y)\n",
    "    \n",
    "    for I in range(len(X)):\n",
    "        if y[I] not in index:\n",
    "            index[y[I]] = []\n",
    "        index[y[I]].append(I)\n",
    "    minimumPoint = min([len(I) for I in index.values()])    \n",
    "    \n",
    "    for I in index:\n",
    "        chosen = random.sample(index[I],k = minimumPoint)\n",
    "        for J in chosen:\n",
    "            balancedX.append(X[J])\n",
    "            balancedY.append(y[J])\n",
    "    return balancedX, balancedY"
   ]
  },
  {
   "cell_type": "code",
   "execution_count": 9,
   "metadata": {
    "scrolled": true
   },
   "outputs": [
    {
     "name": "stderr",
     "output_type": "stream",
     "text": [
      "\r",
      "  0%|                                                                                           | 0/5 [00:00<?, ?it/s]"
     ]
    },
    {
     "name": "stdout",
     "output_type": "stream",
     "text": [
      "6436 4582 2773 2412\n",
      "5148 3216 4139 3700\n",
      "5000 2966 4389 3848\n",
      "5207 3081 4274 3641\n",
      "4686 3124 4231 4162\n",
      "4226 2518 4837 4622\n"
     ]
    },
    {
     "name": "stderr",
     "output_type": "stream",
     "text": [
      "\r",
      " 20%|████████████████▍                                                                 | 1/5 [04:53<19:32, 293.18s/it]"
     ]
    },
    {
     "name": "stdout",
     "output_type": "stream",
     "text": [
      "6143 4332 2926 2802\n",
      "5136 3237 4021 3809\n",
      "4882 2853 4405 4063\n",
      "5228 3089 4169 3717\n",
      "5075 3339 3919 3870\n",
      "4273 2486 4772 4672\n"
     ]
    },
    {
     "name": "stderr",
     "output_type": "stream",
     "text": [
      "\r",
      " 40%|████████████████████████████████▊                                                 | 2/5 [09:39<14:33, 291.13s/it]"
     ]
    },
    {
     "name": "stdout",
     "output_type": "stream",
     "text": [
      "6173 4408 2953 2669\n",
      "5178 3145 4216 3664\n",
      "4964 2865 4496 3878\n",
      "5248 2970 4391 3594\n",
      "4913 3314 4047 3929\n",
      "4344 2572 4789 4498\n"
     ]
    },
    {
     "name": "stderr",
     "output_type": "stream",
     "text": [
      "\r",
      " 60%|█████████████████████████████████████████████████▏                                | 3/5 [14:35<09:45, 292.68s/it]"
     ]
    },
    {
     "name": "stdout",
     "output_type": "stream",
     "text": [
      "6511 4642 2685 2365\n",
      "5153 3137 4190 3723\n",
      "4919 2833 4494 3957\n",
      "5258 3007 4320 3618\n",
      "5042 3448 3879 3834\n",
      "4616 2718 4609 4260\n"
     ]
    },
    {
     "name": "stderr",
     "output_type": "stream",
     "text": [
      "\r",
      " 80%|█████████████████████████████████████████████████████████████████▌                | 4/5 [19:54<05:00, 300.46s/it]"
     ]
    },
    {
     "name": "stdout",
     "output_type": "stream",
     "text": [
      "6672 4905 2444 2183\n",
      "5175 3212 4137 3680\n",
      "4967 2913 4436 3888\n",
      "5271 3092 4257 3584\n",
      "4865 3260 4089 3990\n",
      "4412 2664 4685 4443\n"
     ]
    },
    {
     "name": "stderr",
     "output_type": "stream",
     "text": [
      "\r",
      "100%|██████████████████████████████████████████████████████████████████████████████████| 5/5 [25:17<00:00, 307.38s/it]"
     ]
    }
   ],
   "source": [
    "#First cross validation\n",
    "group = splitGroup(5)\n",
    "XkFold = [[X[J] for J in K]for K in group]\n",
    "YkFold = [[y[J] for J in K]for K in group]\n",
    "counterList = []\n",
    "selectList = []\n",
    "mreTotal = []\n",
    "t = tqdm.tqdm(total=5)\n",
    "for I in range(5):\n",
    "    xTrain = []\n",
    "    yTrain = []\n",
    "    \n",
    "    xTest  = []\n",
    "    yTest = []\n",
    "    \n",
    "    for J in range(5):\n",
    "        if J == I:\n",
    "            for L in XkFold[J]:\n",
    "                sentence = L\n",
    "                newSentence = \"\"\n",
    "                for K in sentence:\n",
    "                    if K.isalpha():\n",
    "                        newSentence += K\n",
    "                    else:\n",
    "                        newSentence += \" \"\n",
    "                xTest.append(newSentence)\n",
    "            yTest.extend(YkFold[J])\n",
    "        else:\n",
    "            for L in XkFold[J]:\n",
    "                sentence = L\n",
    "                newSentence = \"\"\n",
    "                for K in sentence:\n",
    "                    if K.isalpha():\n",
    "                        newSentence += K\n",
    "                    else:\n",
    "                        newSentence += \" \"\n",
    "                xTrain.append(newSentence)\n",
    "            yTrain.extend(YkFold[J])\n",
    "            \n",
    "    xTrain , yTrain = balancedTrain(xTrain,yTrain)\n",
    "    counterList.append(TV(ngram_range=(2,2),min_df=5)) \n",
    "    trainVector = counterList[-1].fit_transform(xTrain)\n",
    "    testVector  = counterList[-1].transform(xTest)\n",
    "    \n",
    "    selectList.append(SelectKBest(chi2, k = 10000))\n",
    "    \n",
    "    trainVector = selectList[-1].fit_transform(trainVector,yTrain)\n",
    "    testVector  = selectList[-1].transform(testVector)\n",
    "            \n",
    "    \n",
    "    mreTotal.append(0)\n",
    "    for J in clfOption:\n",
    "        J.fit(trainVector,yTrain)\n",
    "        prediction = J.predict(testVector)\n",
    "        mreTotal[-1] += mrc(prediction,yTest)\n",
    "    t.update()"
   ]
  },
  {
   "cell_type": "code",
   "execution_count": 10,
   "metadata": {},
   "outputs": [
    {
     "name": "stdout",
     "output_type": "stream",
     "text": [
      "Average mre are\n",
      "[0.1653365967017511, 0.15485612882219488, 0.17406455666515908, 0.17070805113352958, 0.16419834927037513]\n",
      "The best feature selection is number 2\n"
     ]
    }
   ],
   "source": [
    "print(\"Average mre are\")\n",
    "print([I/5 for I in mreTotal])\n",
    "print(\"The best feature selection is number %d\"%(mreTotal.index(max(mreTotal))))"
   ]
  },
  {
   "cell_type": "code",
   "execution_count": 11,
   "metadata": {
    "collapsed": true
   },
   "outputs": [],
   "source": [
    "index = mreTotal.index(max(mreTotal))"
   ]
  },
  {
   "cell_type": "code",
   "execution_count": 12,
   "metadata": {
    "scrolled": true
   },
   "outputs": [
    {
     "name": "stderr",
     "output_type": "stream",
     "text": [
      "\n",
      "  0%|                                                                                           | 0/5 [00:00<?, ?it/s]\n"
     ]
    },
    {
     "name": "stdout",
     "output_type": "stream",
     "text": [
      "6338 4621 2783 2461\n",
      "5670 2705 4699 3129\n",
      "5818 2063 5341 2981\n",
      "6028 2263 5141 2771\n",
      "5309 3171 4233 3490\n",
      "4540 2270 5134 4259\n"
     ]
    },
    {
     "name": "stderr",
     "output_type": "stream",
     "text": [
      "\r",
      " 20%|████████████████▍                                                                 | 1/5 [04:40<18:42, 280.56s/it]"
     ]
    },
    {
     "name": "stdout",
     "output_type": "stream",
     "text": [
      "6301 4600 2759 2543\n",
      "5863 2759 4600 2981\n",
      "5923 2109 5250 2921\n",
      "6201 2268 5091 2643\n",
      "5223 3131 4228 3621\n",
      "4618 2315 5044 4226\n"
     ]
    },
    {
     "name": "stderr",
     "output_type": "stream",
     "text": [
      "\r",
      " 40%|████████████████████████████████▊                                                 | 2/5 [09:24<14:04, 281.50s/it]"
     ]
    },
    {
     "name": "stdout",
     "output_type": "stream",
     "text": [
      "6562 4761 2639 2241\n",
      "5778 2830 4570 3025\n",
      "5894 2129 5271 2909\n",
      "6112 2345 5055 2691\n",
      "5100 3008 4392 3703\n",
      "4550 2405 4995 4253\n"
     ]
    },
    {
     "name": "stderr",
     "output_type": "stream",
     "text": [
      "\r",
      " 60%|█████████████████████████████████████████████████▏                                | 3/5 [13:52<09:15, 277.53s/it]"
     ]
    },
    {
     "name": "stdout",
     "output_type": "stream",
     "text": [
      "6627 4795 2494 2287\n",
      "5843 2714 4575 3071\n",
      "5929 2134 5155 2985\n",
      "6160 2307 4982 2754\n",
      "5223 3018 4271 3691\n",
      "4796 2381 4908 4118\n"
     ]
    },
    {
     "name": "stderr",
     "output_type": "stream",
     "text": [
      "\r",
      " 80%|█████████████████████████████████████████████████████████████████▌                | 4/5 [18:31<04:38, 278.08s/it]"
     ]
    },
    {
     "name": "stdout",
     "output_type": "stream",
     "text": [
      "6509 4511 2687 2497\n",
      "5913 2749 4449 3093\n",
      "6014 2066 5132 2992\n",
      "6229 2279 4919 2777\n",
      "5206 2973 4225 3800\n",
      "4766 2441 4757 4240\n"
     ]
    },
    {
     "name": "stderr",
     "output_type": "stream",
     "text": [
      "\r",
      "100%|██████████████████████████████████████████████████████████████████████████████████| 5/5 [23:10<00:00, 278.09s/it]"
     ]
    }
   ],
   "source": [
    "#Second cross validation to evaluate result\n",
    "group = splitGroup(5)\n",
    "XkFold = [[X[J] for J in K]for K in group]\n",
    "YkFold = [[y[J] for J in K]for K in group]\n",
    "mreTotal = [0 for I in clfOption]\n",
    "t = tqdm.tqdm(total=5)\n",
    "for I in range(5):\n",
    "    xTrain = []\n",
    "    yTrain = []\n",
    "    \n",
    "    xTest  = []\n",
    "    yTest = []\n",
    "    \n",
    "    for J in range(5):\n",
    "        if J == I:\n",
    "            for L in XkFold[J]:\n",
    "                sentence = L\n",
    "                newSentence = \"\"\n",
    "                for K in sentence:\n",
    "                    if K.isalpha():\n",
    "                        newSentence += K\n",
    "                    else:\n",
    "                        newSentence += \" \"\n",
    "                xTest.append(newSentence)\n",
    "            yTest.extend(YkFold[J])\n",
    "        else:\n",
    "            for L in XkFold[J]:\n",
    "                sentence = L\n",
    "                newSentence = \"\"\n",
    "                for K in sentence:\n",
    "                    if K.isalpha():\n",
    "                        newSentence += K\n",
    "                    else:\n",
    "                        newSentence += \" \"\n",
    "                xTrain.append(newSentence)\n",
    "            yTrain.extend(YkFold[J])\n",
    "            \n",
    "    xTrain , yTrain = balancedTrain(xTrain,yTrain)\n",
    "    trainVector = counterList[index].transform(xTrain)\n",
    "    testVector  = counterList[index].transform(xTest)\n",
    "        \n",
    "    trainVector = selectList[index].transform(trainVector)\n",
    "    testVector  = selectList[index].transform(testVector)\n",
    "\n",
    "    for J in range(len(clfOption)):\n",
    "        clfOption[J].fit(trainVector,yTrain)\n",
    "        prediction = clfOption[J].predict(testVector)\n",
    "        mreTotal[J] += mrc(prediction,yTest)\n",
    "    t.update()"
   ]
  },
  {
   "cell_type": "code",
   "execution_count": 13,
   "metadata": {},
   "outputs": [
    {
     "name": "stdout",
     "output_type": "stream",
     "text": [
      "Gradient Boosting -> 0.100321\n",
      "Logistic Regression -> 0.278953\n",
      "Naive Bayes -> 0.378425\n",
      "Linear SVC -> 0.378479\n",
      "K nearest neighbor -> 0.169274\n",
      "Random forest -> 0.203007\n"
     ]
    }
   ],
   "source": [
    "name = [\"Gradient Boosting\",\"Logistic Regression\",\"Naive Bayes\",\"Linear SVC\",\"K nearest neighbor\",\"Random forest\"]\n",
    "assert len(name) == len(mreTotal)\n",
    "for I in range(len(name)):\n",
    "    print(\"%s -> %f\" % (name[I],mreTotal[I]/5))"
   ]
  },
  {
   "cell_type": "markdown",
   "metadata": {},
   "source": [
    "Chronological prediction"
   ]
  },
  {
   "cell_type": "code",
   "execution_count": 14,
   "metadata": {
    "collapsed": true
   },
   "outputs": [],
   "source": [
    "d = Database()\n",
    "data = {}\n",
    "label = {}\n",
    "for I in result:\n",
    "    session = d.cariSesi(I[2],I[3])[0]\n",
    "    if session not in data:\n",
    "        data[session] = []\n",
    "        label[session] = I[1]\n",
    "    data[session].append(I[0])\n",
    "\n",
    "\n",
    "chronology = list(data.keys())"
   ]
  },
  {
   "cell_type": "code",
   "execution_count": 15,
   "metadata": {},
   "outputs": [
    {
     "data": {
      "text/plain": [
       "492"
      ]
     },
     "execution_count": 15,
     "metadata": {},
     "output_type": "execute_result"
    }
   ],
   "source": [
    "len(chronology)"
   ]
  },
  {
   "cell_type": "code",
   "execution_count": 16,
   "metadata": {
    "collapsed": true
   },
   "outputs": [],
   "source": [
    "def splitChronologyGroup(kFold):\n",
    "    #Me too lazy to plug in sklearn\n",
    "    index = [int(I) for I in range(len(chronology))]\n",
    "    random.shuffle(index)\n",
    "    group = [index[len(index)*I//kFold:len(index)*(I+1)//kFold] for I in range(kFold)]\n",
    "    return group"
   ]
  },
  {
   "cell_type": "code",
   "execution_count": 17,
   "metadata": {
    "collapsed": true
   },
   "outputs": [],
   "source": [
    "#Second cross validation to evaluate result\n",
    "group = splitChronologyGroup(5)\n",
    "XkFold = [[chronology[J] for J in K]for K in group]\n",
    "YkFold = [[label[chronology[J]] for J in K]for K in group]"
   ]
  },
  {
   "cell_type": "code",
   "execution_count": 19,
   "metadata": {
    "scrolled": true
   },
   "outputs": [
    {
     "name": "stderr",
     "output_type": "stream",
     "text": [
      "\n",
      "  0%|                                                                                           | 0/5 [00:00<?, ?it/s]\n"
     ]
    },
    {
     "name": "stdout",
     "output_type": "stream",
     "text": [
      "46 31 14 7\n",
      "40 9 36 13\n",
      "45 0 45 8\n",
      "49 2 43 4\n",
      "48 13 32 5\n",
      "16 4 41 37\n"
     ]
    },
    {
     "name": "stderr",
     "output_type": "stream",
     "text": [
      "\r",
      " 20%|████████████████▍                                                                 | 1/5 [06:30<26:00, 390.01s/it]"
     ]
    },
    {
     "name": "stdout",
     "output_type": "stream",
     "text": [
      "58 35 3 2\n",
      "46 4 34 14\n",
      "55 1 37 5\n",
      "53 1 37 7\n",
      "48 9 29 12\n",
      "21 0 38 39\n"
     ]
    },
    {
     "name": "stderr",
     "output_type": "stream",
     "text": [
      "\r",
      " 40%|████████████████████████████████▊                                                 | 2/5 [12:23<18:56, 378.99s/it]"
     ]
    },
    {
     "name": "stdout",
     "output_type": "stream",
     "text": [
      "7 8 39 45\n",
      "39 15 32 13\n",
      "44 3 44 8\n",
      "44 7 40 8\n",
      "38 6 41 14\n",
      "14 7 40 38\n"
     ]
    },
    {
     "name": "stderr",
     "output_type": "stream",
     "text": [
      "\r",
      " 60%|█████████████████████████████████████████████████▏                                | 3/5 [17:58<12:11, 365.99s/it]"
     ]
    },
    {
     "name": "stdout",
     "output_type": "stream",
     "text": [
      "47 32 14 5\n",
      "43 13 33 9\n",
      "44 1 45 8\n",
      "46 4 42 6\n",
      "41 7 39 11\n",
      "11 0 46 41\n"
     ]
    },
    {
     "name": "stderr",
     "output_type": "stream",
     "text": [
      "\r",
      " 80%|█████████████████████████████████████████████████████████████████▌                | 4/5 [23:20<05:52, 352.80s/it]"
     ]
    },
    {
     "name": "stdout",
     "output_type": "stream",
     "text": [
      "43 39 11 6\n",
      "37 11 39 12\n",
      "43 3 47 6\n",
      "47 3 47 2\n",
      "41 17 33 8\n",
      "19 0 50 30\n"
     ]
    },
    {
     "name": "stderr",
     "output_type": "stream",
     "text": [
      "\r",
      "100%|██████████████████████████████████████████████████████████████████████████████████| 5/5 [28:09<00:00, 333.62s/it]"
     ]
    }
   ],
   "source": [
    "mreTotal = [0 for I in clfOption]\n",
    "#Second cross validation to evaluate result\n",
    "group = splitChronologyGroup(5)\n",
    "XkFold = [[chronology[J] for J in K]for K in group]\n",
    "YkFold = [[label[chronology[J]] for J in K]for K in group]\n",
    "\n",
    "t = tqdm.tqdm(total=5)\n",
    "for I in range(5):\n",
    "    xTrain = []\n",
    "    yTrain = []\n",
    "    \n",
    "    xTest  = []\n",
    "    yTest = []\n",
    "    \n",
    "    for J in range(5):\n",
    "        if J != I:\n",
    "            for K in XkFold[J]:\n",
    "                for L in data[K]:\n",
    "                    sentence = L\n",
    "                    newSentence = \"\"\n",
    "                    for M in sentence:\n",
    "                        if M.isalpha():\n",
    "                            newSentence += M\n",
    "                        else:\n",
    "                            newSentence += \" \"\n",
    "                    xTrain.append(newSentence)\n",
    "                    yTrain.append(label[K])\n",
    "        else:\n",
    "            for K in XkFold[J]:\n",
    "                xTest.append([])\n",
    "                for L in data[K]:\n",
    "                    sentence = L\n",
    "                    newSentence = \"\"\n",
    "                    for M in sentence:\n",
    "                        if M.isalpha():\n",
    "                            newSentence += M\n",
    "                        else:\n",
    "                            newSentence += \" \"\n",
    "                    xTest[-1].append(newSentence)\n",
    "                yTest.append(label[K])\n",
    "            \n",
    "    xTrain , yTrain = balancedTrain(xTrain,yTrain)\n",
    "    trainVector = counterList[index].transform(xTrain)\n",
    "    testVector  = [counterList[index].transform(J) for J in xTest]\n",
    "        \n",
    "    trainVector = selectList[index].transform(trainVector)\n",
    "    testVector  = [selectList[index].transform(J) for J in testVector]\n",
    "\n",
    "    for J in range(len(clfOption)):\n",
    "        clfOption[J].fit(trainVector,yTrain)\n",
    "        prediction = [[-1,1][sum(clfOption[J].predict(K))>0] for K in testVector]\n",
    "        mreTotal[J] += mrc(prediction,yTest)\n",
    "    t.update()"
   ]
  },
  {
   "cell_type": "code",
   "execution_count": 20,
   "metadata": {},
   "outputs": [
    {
     "name": "stdout",
     "output_type": "stream",
     "text": [
      "Gradient Boosting -> 0.132201\n",
      "Logistic Regression -> 0.542771\n",
      "Naive Bayes -> 0.830636\n",
      "Linear SVC -> 0.821913\n",
      "K nearest neighbor -> 0.587157\n",
      "Random forest -> 0.330527\n"
     ]
    }
   ],
   "source": [
    "name = [\"Gradient Boosting\",\"Logistic Regression\",\"Naive Bayes\",\"Linear SVC\",\"K nearest neighbor\",\"Random forest\"]\n",
    "assert len(name) == len(mreTotal)\n",
    "for I in range(len(name)):\n",
    "    print(\"%s -> %f\" % (name[I],mreTotal[I]/5))"
   ]
  },
  {
   "cell_type": "code",
   "execution_count": null,
   "metadata": {
    "collapsed": true
   },
   "outputs": [],
   "source": []
  }
 ],
 "metadata": {
  "kernelspec": {
   "display_name": "Python 3",
   "language": "python",
   "name": "python3"
  },
  "language_info": {
   "codemirror_mode": {
    "name": "ipython",
    "version": 3
   },
   "file_extension": ".py",
   "mimetype": "text/x-python",
   "name": "python",
   "nbconvert_exporter": "python",
   "pygments_lexer": "ipython3",
   "version": "3.6.1"
  }
 },
 "nbformat": 4,
 "nbformat_minor": 2
}

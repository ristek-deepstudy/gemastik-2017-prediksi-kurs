{
 "cells": [
  {
   "cell_type": "code",
   "execution_count": 1,
   "metadata": {
    "collapsed": true
   },
   "outputs": [],
   "source": [
    "from sklearn.feature_selection import SelectKBest\n",
    "from sklearn.feature_selection import chi2\n",
    "from sklearn.linear_model import LogisticRegression as LR\n",
    "from sklearn.feature_extraction.text import CountVectorizer as CV\n",
    "from sklearn.ensemble.gradient_boosting import GradientBoostingClassifier as GB\n",
    "from sklearn.ensemble import RandomForestClassifier as RFC\n",
    "from sklearn.svm import LinearSVC\n",
    "from sklearn.neighbors import KNeighborsClassifier as KNC\n",
    "from Database import Database\n",
    "from numpy import array\n",
    "from sklearn.naive_bayes import MultinomialNB as NB\n",
    "import sqlite3\n",
    "import tqdm\n",
    "import random"
   ]
  },
  {
   "cell_type": "code",
   "execution_count": 2,
   "metadata": {
    "collapsed": true
   },
   "outputs": [],
   "source": [
    "conn = sqlite3.connect('berita.db')\n",
    "c = conn.cursor()\n",
    "c.execute(\"SELECT Text,Date,Clock,Sentiment From Berita \")\n",
    "result = c.fetchall()"
   ]
  },
  {
   "cell_type": "code",
   "execution_count": 3,
   "metadata": {
    "collapsed": true
   },
   "outputs": [],
   "source": [
    "d = Database()\n",
    "data = {}\n",
    "label = {}\n",
    "for I in result:\n",
    "    session = d.cariSesi(I[1],I[2])[0]\n",
    "    if session not in data:\n",
    "        data[session] = []\n",
    "        label[session] = I[3]\n",
    "    sentence = I[0]\n",
    "    newSentence = \"\"\n",
    "    for J in sentence:\n",
    "        if J.isalpha():\n",
    "            newSentence += J\n",
    "        else:\n",
    "            newSentence += \" \"\n",
    "    data[session].append(newSentence)"
   ]
  },
  {
   "cell_type": "code",
   "execution_count": 4,
   "metadata": {
    "collapsed": true
   },
   "outputs": [],
   "source": [
    "# Sorting the chronological order\n",
    "\n",
    "#MeTooLazySoMeBubbleSort\n",
    "\n",
    "chronology = list(data.keys())\n",
    "\n",
    "for I in range(len(data.keys())):\n",
    "    for J in range(I+1,len(data.keys())):\n",
    "        if chronology[I] > chronology[J]:\n",
    "            chronology[I],chronology[J] = chronology[J],chronology[I]"
   ]
  },
  {
   "cell_type": "code",
   "execution_count": 5,
   "metadata": {},
   "outputs": [
    {
     "data": {
      "text/plain": [
       "492"
      ]
     },
     "execution_count": 5,
     "metadata": {},
     "output_type": "execute_result"
    }
   ],
   "source": [
    "len(chronology)"
   ]
  },
  {
   "cell_type": "code",
   "execution_count": 6,
   "metadata": {
    "collapsed": true
   },
   "outputs": [],
   "source": [
    "def balancedTrain(X,y,mode):\n",
    "    '''\n",
    "    mode has two options:\n",
    "    -> 'CV'\n",
    "    then balancedTrain would suit it undersampling method for \n",
    "    cross validation\n",
    "    \n",
    "    -> 'Boosting'\n",
    "    then balancedTrain would suit is sampling method for\n",
    "    boosting    \n",
    "    '''\n",
    "    assert mode == 'CV' or mode == 'Boosting'\n",
    "    balancedX = []\n",
    "    balancedY = []\n",
    "    \n",
    "    index = {}\n",
    "    \n",
    "    assert len(X) == len(y)\n",
    "    \n",
    "    #Mencatat indeks mana yang positif dan mana yang negatif\n",
    "    for I in range(len(X)):\n",
    "        if y[I] not in index:\n",
    "            index[y[I]] = []\n",
    "        index[y[I]].append(I)\n",
    "    \n",
    "    minimumPoint = min([len(I) for I in index.values()])    \n",
    "    \n",
    "    #Memastikan jumlah (+) dan (-) sama\n",
    "    for I in index:\n",
    "        if mode == 'CV':\n",
    "            chosen = random.sample(index[I],minimumPoint)\n",
    "        else:\n",
    "            chosen = random.choices(index[I],k=minimumPoint)\n",
    "        for J in chosen:\n",
    "            balancedX.append(X[J])\n",
    "            balancedY.append(y[J])\n",
    "    return balancedX, balancedY"
   ]
  },
  {
   "cell_type": "code",
   "execution_count": 7,
   "metadata": {
    "collapsed": true
   },
   "outputs": [],
   "source": [
    "def splitGroup(kFold):\n",
    "    #Me too lazy to plug in sklearn\n",
    "    assert len(X) == len(y)\n",
    "    index = [int(I) for I in range(len(X))]\n",
    "    random.shuffle(index)\n",
    "    group = [index[len(index)*I//kFold:len(index)*(I+1)//kFold] for I in range(kFold)]\n",
    "    return group"
   ]
  },
  {
   "cell_type": "code",
   "execution_count": 8,
   "metadata": {
    "collapsed": true
   },
   "outputs": [],
   "source": [
    "#Custom class for GradientBoosting\n",
    "class Boosting():\n",
    "    def __init__(self):\n",
    "        self.clf = GB()\n",
    "    def fit(self,X,y):\n",
    "        self.clf.fit(X,y)\n",
    "    def predict(self,X):\n",
    "        m = int(X.shape[0] ** (0.5))\n",
    "        pred = []\n",
    "        for I in range(m):\n",
    "            pred.extend(self.clf.predict(X[I*X.shape[0]//m:(I+1)*X.shape[0]//m].toarray()))\n",
    "        return pred\n",
    "#Custom class for K Nearest Neighbor\n",
    "class Neighbors:\n",
    "    def __init__(self):\n",
    "        self.clf = KNC()\n",
    "    def fit(self,X,y):\n",
    "        self.clf.fit(X,y)\n",
    "    def predict(self,X):\n",
    "        m = int(X.shape[0] ** (0.5))\n",
    "        pred = []\n",
    "        for I in range(m):\n",
    "            pred.extend(self.clf.predict(X[I*X.shape[0]//m:(I+1)*X.shape[0]//m]))\n",
    "        return pred"
   ]
  },
  {
   "cell_type": "code",
   "execution_count": 9,
   "metadata": {
    "collapsed": true
   },
   "outputs": [],
   "source": [
    "clfOption = [Boosting(),LR(n_jobs = -1),NB(),LinearSVC(),Neighbors(),RFC()]\n",
    "mrePred = []"
   ]
  },
  {
   "cell_type": "code",
   "execution_count": 10,
   "metadata": {
    "collapsed": true
   },
   "outputs": [],
   "source": [
    "def mrc(pred,Y):\n",
    "    \n",
    "    pred = array(pred)\n",
    "    Y    = array(Y)\n",
    "    \n",
    "    TP, FP , TN, FN = 0,0,0,0\n",
    "    \n",
    "    for I in range(len(pred)):\n",
    "        if pred[I] == Y[I]:\n",
    "            if pred[I] == 1:\n",
    "                TP += 1\n",
    "            else:\n",
    "                TN += 1\n",
    "        else:\n",
    "            if pred[I] == -1:\n",
    "                FP += 1\n",
    "            else:\n",
    "                FN += 1\n",
    "    #print(TP,FP,TN,FN)\n",
    "    try:\n",
    "        return ((TP*TN)-(FP*FN)) / ((TP+FP)*(TP+FN)*(TN+FP)*(TN+FN))**(0.5)\n",
    "    except:\n",
    "        return 0"
   ]
  },
  {
   "cell_type": "code",
   "execution_count": 22,
   "metadata": {},
   "outputs": [],
   "source": [
    "mrePred = []\n",
    "for index in range(5):\n",
    "    mreTotal = []\n",
    "    trainChronology = chronology[:len(chronology)*(index+1)//6]\n",
    "    testChronology  = chronology[len(chronology)*(index+1)//6:len(chronology)*(index+2)//6]\n",
    "    \n",
    "    # Do cross-validation to choose the best feature selection\n",
    "    \n",
    "    X = []\n",
    "    y = []\n",
    "    \n",
    "    for I in trainChronology:\n",
    "        X.extend(data[I])\n",
    "        y.extend([label[I] for J in range(len(data[I]))])\n",
    "        \n",
    "    group = splitGroup(5)\n",
    "    XkFold = [[X[J] for J in K]for K in group]\n",
    "    YkFold = [[y[J] for J in K]for K in group]\n",
    "    counterList = []\n",
    "    selectList = []\n",
    "    mreTotal = []\n",
    "\n",
    "    xTrain = []\n",
    "    yTrain = []\n",
    "    \n",
    "    xTest  = []\n",
    "    yTest = []\n",
    "    \n",
    "    for J in range(5):\n",
    "        if J == index:\n",
    "            for L in XkFold[J]:\n",
    "                xTest.append(L)\n",
    "            yTest.extend(YkFold[J])\n",
    "        else:\n",
    "            for L in XkFold[J]:\n",
    "                xTrain.append(L)\n",
    "            yTrain.extend(YkFold[J])\n",
    "\n",
    "    assert len(xTrain) == len(yTrain)\n",
    "    xTrainNew , yTrainNew = balancedTrain(xTrain,yTrain,'CV')\n",
    "    counterList.append(CV(ngram_range=(2,2),min_df=5)) \n",
    "    trainVector = counterList[-1].fit_transform(xTrainNew)\n",
    "    testVector  = counterList[-1].transform(xTest)\n",
    "    \n",
    "    selectList.append(SelectKBest(chi2, k = 10000))\n",
    "    \n",
    "    trainVector = selectList[-1].fit_transform(trainVector,yTrainNew)\n",
    "    testVector  = selectList[-1].transform(testVector)\n",
    "\n",
    "    mreTotal.append(0)\n",
    "    for J in clfOption:\n",
    "        J.fit(trainVector,yTrainNew)\n",
    "        prediction = J.predict(testVector)\n",
    "        mreTotal[-1] += mrc(prediction,yTest)\n",
    "    \n",
    "    index = mreTotal.index(max(mreTotal))\n",
    "    \n",
    "    mrePred.append({'post':[],\n",
    "                    'chronological':[]})\n",
    "    \n",
    "    xTrainNew = []\n",
    "    yTrainNew = []\n",
    "    # Generating boosting data\n",
    "    for I in range(9):\n",
    "        X_temp , y_temp = balancedTrain(xTrain,yTrain,'Boosting')\n",
    "        xTrainNew.append(X_temp)\n",
    "        yTrainNew.append(y_temp)\n",
    "\n",
    "    trainVector = [counterList[index].transform(I) for I in xTrainNew]\n",
    "    testVector  = counterList[index].transform(xTest)\n",
    "        \n",
    "    trainVector = [selectList[index].transform(I) for I in trainVector]\n",
    "    testVector  = selectList[index].transform(testVector)\n",
    "    \n",
    "    for I in clfOption:\n",
    "        predict = array([int(0) for J in yTest])\n",
    "        for boostingIter in range(9):\n",
    "            I.fit(trainVector[boostingIter],yTrainNew[boostingIter])\n",
    "            predict += I.predict(testVector)\n",
    "        postPredict = [[-1,1][J>0] for J in predict]\n",
    "        \n",
    "        dayPredict = []\n",
    "        dayY = []\n",
    "        sumIndex = 0\n",
    "        \n",
    "        for J in testChronology:\n",
    "            dayPredict.append([-1,1][sum(postPredict[sumIndex:sumIndex+len(data[J])])>0])\n",
    "            dayY.append(label[J])\n",
    "            sumIndex += len(data[J])\n",
    "            \n",
    "        mrePred[-1]['post'].append(mrc(postPredict,yTest))\n",
    "        mrePred[-1]['chronological'].append(mrc(dayPredict,dayY))\n",
    "            "
   ]
  },
  {
   "cell_type": "code",
   "execution_count": 18,
   "metadata": {
    "scrolled": true
   },
   "outputs": [
    {
     "name": "stdout",
     "output_type": "stream",
     "text": [
      "Gradient Boosting -> (chronological) 0.000000 (post) 0.124020 \n",
      "Logistic Regression -> (chronological) -0.061229 (post) 0.202800 \n",
      "Naive Bayes -> (chronological) -0.110458 (post) 0.190508 \n",
      "Linear SVC -> (chronological) -0.052251 (post) 0.191642 \n",
      "K nearest neighbor -> (chronological) -0.053863 (post) 0.098195 \n",
      "Random forest -> (chronological) -0.142782 (post) 0.201578 \n"
     ]
    }
   ],
   "source": [
    "name = [\"Gradient Boosting\",\"Logistic Regression\",\"Naive Bayes\",\"Linear SVC\",\"K nearest neighbor\",\"Random forest\"]\n",
    "for I in range(len(name)):\n",
    "    chronological = [J['chronological'][I] for J in mrePred]\n",
    "    post = [J['post'][I] for J in mrePred]\n",
    "    print(\"%s -> (chronological) %f (post) %f \" % (name[I],sum(chronological)/5,sum(post)/5))"
   ]
  },
  {
   "cell_type": "code",
   "execution_count": 19,
   "metadata": {},
   "outputs": [
    {
     "data": {
      "text/plain": [
       "[{'chronological': [0,\n",
       "   -0.05303907054347037,\n",
       "   -0.05303907054347037,\n",
       "   -0.05303907054347037,\n",
       "   -0.03482128725155604,\n",
       "   -0.24640617600447118],\n",
       "  'post': [0.16244933013562737,\n",
       "   0.25744044451693676,\n",
       "   0.22454249973527354,\n",
       "   0.23682180755565807,\n",
       "   0.14009937015598561,\n",
       "   0.26276704519378086]},\n",
       " {'chronological': [0,\n",
       "   -0.21051315346275487,\n",
       "   -0.21051315346275487,\n",
       "   -0.17697373762072413,\n",
       "   -0.21051315346275487,\n",
       "   -0.12806290809781323],\n",
       "  'post': [0.15502839297979046,\n",
       "   0.2304764932080748,\n",
       "   0.2217317783042985,\n",
       "   0.21634884714136585,\n",
       "   0.11268659889500089,\n",
       "   0.21359028464542726]},\n",
       " {'chronological': [0,\n",
       "   -0.051514008348893185,\n",
       "   -0.08751750525175062,\n",
       "   0.00715472338179072,\n",
       "   -0.01698598887128985,\n",
       "   -0.020371077711738027],\n",
       "  'post': [0.08505611260926284,\n",
       "   0.1808865476372513,\n",
       "   0.17473803912949432,\n",
       "   0.17544015433191787,\n",
       "   0.07409245930322331,\n",
       "   0.17543264700492828]},\n",
       " {'chronological': [0,\n",
       "   0.1099250293768989,\n",
       "   -0.16067136948810673,\n",
       "   0.1464481316025307,\n",
       "   -0.0831820173783879,\n",
       "   -0.19741861422971116],\n",
       "  'post': [0.1098069614804298,\n",
       "   0.18284419936167584,\n",
       "   0.18203064283410597,\n",
       "   0.1799284542300234,\n",
       "   0.09118008976408638,\n",
       "   0.18573594461555862]},\n",
       " {'chronological': [0,\n",
       "   -0.10100254319038454,\n",
       "   -0.04054846624431496,\n",
       "   -0.18484453152356847,\n",
       "   0.07618901367497681,\n",
       "   -0.12165117975528081],\n",
       "  'post': [0.10775940993826112,\n",
       "   0.16235386139780653,\n",
       "   0.14949711159374582,\n",
       "   0.14967224045987676,\n",
       "   0.07291487809832199,\n",
       "   0.17036645249790167]}]"
      ]
     },
     "execution_count": 19,
     "metadata": {},
     "output_type": "execute_result"
    }
   ],
   "source": [
    "mrePred"
   ]
  },
  {
   "cell_type": "code",
   "execution_count": null,
   "metadata": {
    "collapsed": true
   },
   "outputs": [],
   "source": []
  }
 ],
 "metadata": {
  "kernelspec": {
   "display_name": "Python 3",
   "language": "python",
   "name": "python3"
  },
  "language_info": {
   "codemirror_mode": {
    "name": "ipython",
    "version": 3
   },
   "file_extension": ".py",
   "mimetype": "text/x-python",
   "name": "python",
   "nbconvert_exporter": "python",
   "pygments_lexer": "ipython3",
   "version": "3.6.1"
  }
 },
 "nbformat": 4,
 "nbformat_minor": 2
}

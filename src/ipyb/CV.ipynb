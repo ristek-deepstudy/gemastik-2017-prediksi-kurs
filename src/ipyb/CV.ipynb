{
 "cells": [
  {
   "cell_type": "markdown",
   "metadata": {},
   "source": [
    "Importing libraries"
   ]
  },
  {
   "cell_type": "code",
   "execution_count": 1,
   "metadata": {
    "collapsed": true
   },
   "outputs": [],
   "source": [
    "from sklearn.feature_selection import SelectKBest\n",
    "from sklearn.feature_selection import chi2\n",
    "from sklearn.linear_model import LogisticRegression as LR\n",
    "from sklearn.feature_extraction.text import CountVectorizer as CV\n",
    "from sklearn.ensemble.gradient_boosting import GradientBoostingClassifier as GB\n",
    "from sklearn.ensemble import RandomForestClassifier as RFC\n",
    "from sklearn.svm import LinearSVC\n",
    "from sklearn.neighbors import KNeighborsClassifier as KNC\n",
    "from Database import Database\n",
    "from numpy import array\n",
    "from sklearn.naive_bayes import MultinomialNB as NB\n",
    "import sqlite3\n",
    "import tqdm\n",
    "import random"
   ]
  },
  {
   "cell_type": "markdown",
   "metadata": {},
   "source": [
    "And the data.\n",
    "\n",
    "If the currency would increases on the next period after the news is launched -> labeled + 1\n",
    "If the currnecy would decreases on the next period after the news is launched -> labeled - 1"
   ]
  },
  {
   "cell_type": "code",
   "execution_count": 2,
   "metadata": {
    "collapsed": true
   },
   "outputs": [],
   "source": [
    "conn = sqlite3.connect('berita.db')\n",
    "c = conn.cursor()\n",
    "c.execute(\"SELECT Text,Sentiment,Date,Clock From Berita \")\n",
    "result = c.fetchall()"
   ]
  },
  {
   "cell_type": "code",
   "execution_count": 3,
   "metadata": {
    "collapsed": true
   },
   "outputs": [],
   "source": [
    "X = []\n",
    "y = []\n",
    "for I in result:\n",
    "    X.append(I[0])\n",
    "    y.append(I[1])"
   ]
  },
  {
   "cell_type": "markdown",
   "metadata": {},
   "source": [
    "A good evaluation metric should be directly motivated by the problem.\n",
    "\n",
    "We find three charactherization:\n",
    "    \n",
    "    (1) Both false positive and false negative are harmful\n",
    "    \n",
    "    (2) The number of positive point and negative point fluctuates as condition of economy\n",
    "    \n",
    "    (3) The number of positive point and negative is not equal and the evaluation metric accomodates them.\n",
    "    \n",
    "We would like to think that mrc is the most suitable parameter compared to other parameters like F1 but also provides more intuitive information than AUROC."
   ]
  },
  {
   "cell_type": "code",
   "execution_count": 4,
   "metadata": {
    "collapsed": true
   },
   "outputs": [],
   "source": [
    "def mrc(pred,Y):\n",
    "    \n",
    "    pred = array(pred)\n",
    "    Y    = array(Y)\n",
    "    \n",
    "    TP, FP , TN, FN = 0,0,0,0\n",
    "    \n",
    "    for I in range(len(pred)):\n",
    "        if pred[I] == Y[I]:\n",
    "            if pred[I] == 1:\n",
    "                TP += 1\n",
    "            else:\n",
    "                TN += 1\n",
    "        else:\n",
    "            if pred[I] == -1:\n",
    "                FN += 1\n",
    "            else:\n",
    "                FP += 1\n",
    "    print(TP,FP,TN,FN)\n",
    "    try:\n",
    "        return ((TP*TN)-(FP*FN)) / ((TP+FP)*(TP+FN)*(TN+FP)*(TN+FN))**(0.5)\n",
    "    except:\n",
    "        return 0"
   ]
  },
  {
   "cell_type": "code",
   "execution_count": 5,
   "metadata": {
    "collapsed": true
   },
   "outputs": [],
   "source": [
    "#Custom class for GradientBoosting\n",
    "class Boosting():\n",
    "    def __init__(self):\n",
    "        self.clf = GB()\n",
    "    def fit(self,X,y):\n",
    "        self.clf.fit(X,y)\n",
    "    def predict(self,X):\n",
    "        m = int(X.shape[0] ** (0.5))\n",
    "        pred = []\n",
    "        for I in range(m):\n",
    "            pred.extend(self.clf.predict(X[I*X.shape[0]//m:(I+1)*X.shape[0]//m].toarray()))\n",
    "        return pred\n",
    "#Custom class for K Nearest Neighbor\n",
    "class Neighbors:\n",
    "    def __init__(self):\n",
    "        self.clf = KNC()\n",
    "    def fit(self,X,y):\n",
    "        self.clf.fit(X,y)\n",
    "    def predict(self,X):\n",
    "        m = int(X.shape[0] ** (0.5))\n",
    "        pred = []\n",
    "        for I in range(m):\n",
    "            pred.extend(self.clf.predict(X[I*X.shape[0]//m:(I+1)*X.shape[0]//m]))\n",
    "        return pred"
   ]
  },
  {
   "cell_type": "code",
   "execution_count": 6,
   "metadata": {
    "collapsed": true
   },
   "outputs": [],
   "source": [
    "clfOption = [Boosting(),LR(n_jobs = -1),NB(),LinearSVC(),Neighbors(),RFC()]"
   ]
  },
  {
   "cell_type": "markdown",
   "metadata": {},
   "source": [
    "We empoy nested cross validation.\n",
    "\n",
    "The first cross validation is to find the best feature selection\n",
    "\n",
    "The second cross validation is to evaluate the model.\n",
    "\n",
    "Both are 5-fold cross validation.\n",
    "\n",
    "However, on the training set of each cross validation, we would under sample the majority class to ensure 50/50 balance of the training set."
   ]
  },
  {
   "cell_type": "code",
   "execution_count": 7,
   "metadata": {
    "collapsed": true
   },
   "outputs": [],
   "source": [
    "def splitGroup(kFold):\n",
    "    #Me too lazy to plug in sklearn\n",
    "    assert len(X) == len(y)\n",
    "    index = [int(I) for I in range(len(X))]\n",
    "    random.shuffle(index)\n",
    "    group = [index[len(index)*I//kFold:len(index)*(I+1)//kFold] for I in range(kFold)]\n",
    "    return group"
   ]
  },
  {
   "cell_type": "code",
   "execution_count": 8,
   "metadata": {
    "collapsed": true
   },
   "outputs": [],
   "source": [
    "def balancedTrain(X,y):\n",
    "    balancedX = []\n",
    "    balancedY = []\n",
    "    \n",
    "    index = {}\n",
    "    \n",
    "    assert len(X) == len(y)\n",
    "    \n",
    "    for I in range(len(X)):\n",
    "        if y[I] not in index:\n",
    "            index[y[I]] = []\n",
    "        index[y[I]].append(I)\n",
    "    minimumPoint = min([len(I) for I in index.values()])    \n",
    "    \n",
    "    for I in index:\n",
    "        chosen = random.sample(index[I],k = minimumPoint)\n",
    "        for J in chosen:\n",
    "            balancedX.append(X[J])\n",
    "            balancedY.append(y[J])\n",
    "    return balancedX, balancedY"
   ]
  },
  {
   "cell_type": "code",
   "execution_count": 9,
   "metadata": {
    "scrolled": true
   },
   "outputs": [
    {
     "name": "stderr",
     "output_type": "stream",
     "text": [
      "\r",
      "  0%|                                                                                            | 0/5 [00:00<?, ?it/s]"
     ]
    },
    {
     "name": "stdout",
     "output_type": "stream",
     "text": [
      "6343 4567 2622 2486\n",
      "5138 3083 4106 3691\n",
      "5161 3202 3987 3668\n",
      "5105 3153 4036 3724\n",
      "5626 3906 3283 3203\n",
      "4374 2586 4603 4455\n"
     ]
    },
    {
     "name": "stderr",
     "output_type": "stream",
     "text": [
      "\r",
      " 20%|████████████████▌                                                                  | 1/5 [05:26<21:46, 326.67s/it]"
     ]
    },
    {
     "name": "stdout",
     "output_type": "stream",
     "text": [
      "2910 1744 5411 5954\n",
      "5154 2985 4170 3710\n",
      "5181 3025 4130 3683\n",
      "5190 3127 4028 3674\n",
      "5220 3661 3494 3644\n",
      "4529 2558 4597 4335\n"
     ]
    },
    {
     "name": "stderr",
     "output_type": "stream",
     "text": [
      "\r",
      " 40%|█████████████████████████████████▏                                                 | 2/5 [11:07<16:33, 331.04s/it]"
     ]
    },
    {
     "name": "stdout",
     "output_type": "stream",
     "text": [
      "5898 4243 3049 2828\n",
      "5154 3208 4084 3572\n",
      "5030 3146 4146 3696\n",
      "5136 3257 4035 3590\n",
      "5160 3786 3506 3566\n",
      "4367 2658 4634 4359\n"
     ]
    },
    {
     "name": "stderr",
     "output_type": "stream",
     "text": [
      "\r",
      " 60%|████████████████████████████████████████████████                                | 3/5 [1:10:48<43:31, 1305.84s/it]"
     ]
    },
    {
     "name": "stdout",
     "output_type": "stream",
     "text": [
      "5964 4273 2957 2825\n",
      "5185 3122 4108 3604\n",
      "5178 3140 4090 3611\n",
      "5188 3182 4048 3601\n",
      "5125 3586 3644 3664\n",
      "4484 2613 4617 4305\n"
     ]
    },
    {
     "name": "stderr",
     "output_type": "stream",
     "text": [
      "\r",
      " 80%|████████████████████████████████████████████████████████████████                | 4/5 [1:19:05<17:43, 1063.17s/it]"
     ]
    },
    {
     "name": "stdout",
     "output_type": "stream",
     "text": [
      "6026 4298 2953 2742\n",
      "5170 3194 4057 3598\n",
      "5036 3121 4130 3732\n",
      "5178 3186 4065 3590\n",
      "5291 3949 3302 3477\n",
      "4315 2517 4734 4453\n"
     ]
    },
    {
     "name": "stderr",
     "output_type": "stream",
     "text": [
      "\r",
      "100%|█████████████████████████████████████████████████████████████████████████████████| 5/5 [1:26:16<00:00, 873.45s/it]"
     ]
    }
   ],
   "source": [
    "#First cross validation\n",
    "group = splitGroup(5)\n",
    "XkFold = [[X[J] for J in K]for K in group]\n",
    "YkFold = [[y[J] for J in K]for K in group]\n",
    "counterList = []\n",
    "selectList = []\n",
    "mreTotal = []\n",
    "t = tqdm.tqdm(total=5)\n",
    "for I in range(5):\n",
    "    xTrain = []\n",
    "    yTrain = []\n",
    "    \n",
    "    xTest  = []\n",
    "    yTest = []\n",
    "    \n",
    "    for J in range(5):\n",
    "        if J == I:\n",
    "            for L in XkFold[J]:\n",
    "                sentence = L\n",
    "                newSentence = \"\"\n",
    "                for K in sentence:\n",
    "                    if K.isalpha():\n",
    "                        newSentence += K\n",
    "                    else:\n",
    "                        newSentence += \" \"\n",
    "                xTest.append(newSentence)\n",
    "            yTest.extend(YkFold[J])\n",
    "        else:\n",
    "            for L in XkFold[J]:\n",
    "                sentence = L\n",
    "                newSentence = \"\"\n",
    "                for K in sentence:\n",
    "                    if K.isalpha():\n",
    "                        newSentence += K\n",
    "                    else:\n",
    "                        newSentence += \" \"\n",
    "                xTrain.append(newSentence)\n",
    "            yTrain.extend(YkFold[J])\n",
    "            \n",
    "    xTrain , yTrain = balancedTrain(xTrain,yTrain)\n",
    "    counterList.append(CV(ngram_range=(2,2),min_df=5)) \n",
    "    trainVector = counterList[-1].fit_transform(xTrain)\n",
    "    testVector  = counterList[-1].transform(xTest)\n",
    "    \n",
    "    selectList.append(SelectKBest(chi2, k = 10000))\n",
    "    \n",
    "    trainVector = selectList[-1].fit_transform(trainVector,yTrain)\n",
    "    testVector  = selectList[-1].transform(testVector)\n",
    "            \n",
    "    \n",
    "    mreTotal.append(0)\n",
    "    for J in clfOption:\n",
    "        J.fit(trainVector,yTrain)\n",
    "        prediction = J.predict(testVector)\n",
    "        mreTotal[-1] += mrc(prediction,yTest)\n",
    "    t.update()"
   ]
  },
  {
   "cell_type": "code",
   "execution_count": 10,
   "metadata": {},
   "outputs": [
    {
     "name": "stdout",
     "output_type": "stream",
     "text": [
      "Average mre are\n",
      "[0.14997606323208634, 0.1590669252163055, 0.14843724410587922, 0.15762721248819203, 0.14921693592123209]\n",
      "The best feature selection is number 1\n"
     ]
    }
   ],
   "source": [
    "print(\"Average mre are\")\n",
    "print([I/5 for I in mreTotal])\n",
    "print(\"The best feature selection is number %d\"%(mreTotal.index(max(mreTotal))))"
   ]
  },
  {
   "cell_type": "code",
   "execution_count": null,
   "metadata": {
    "collapsed": true
   },
   "outputs": [],
   "source": [
    "index = mreTotal.index(max(mreTotal))"
   ]
  },
  {
   "cell_type": "code",
   "execution_count": 11,
   "metadata": {
    "scrolled": true
   },
   "outputs": [
    {
     "name": "stderr",
     "output_type": "stream",
     "text": [
      "\n",
      "  0%|                                                                                            | 0/5 [00:00<?, ?it/s]\n"
     ]
    },
    {
     "name": "stdout",
     "output_type": "stream",
     "text": [
      "2325 1314 5940 6439\n",
      "6168 2381 4873 2596\n",
      "6044 2411 4843 2720\n",
      "6126 2388 4866 2638\n",
      "5330 3772 3482 3434\n",
      "4477 2418 4836 4287\n"
     ]
    },
    {
     "name": "stderr",
     "output_type": "stream",
     "text": [
      "\r",
      " 20%|████████████████▌                                                                  | 1/5 [06:02<24:11, 362.99s/it]"
     ]
    },
    {
     "name": "stdout",
     "output_type": "stream",
     "text": [
      "6094 4361 2840 2724\n",
      "6082 2332 4869 2736\n",
      "6130 2418 4783 2688\n",
      "6056 2391 4810 2762\n",
      "5339 3694 3507 3479\n",
      "4507 2399 4802 4311\n"
     ]
    },
    {
     "name": "stderr",
     "output_type": "stream",
     "text": [
      "\r",
      " 40%|█████████████████████████████████▏                                                 | 2/5 [12:26<18:27, 369.27s/it]"
     ]
    },
    {
     "name": "stdout",
     "output_type": "stream",
     "text": [
      "6267 4362 2784 2605\n",
      "6236 2414 4732 2636\n",
      "6185 2452 4694 2687\n",
      "6186 2464 4682 2686\n",
      "5333 3660 3486 3539\n",
      "4563 2384 4762 4309\n"
     ]
    },
    {
     "name": "stderr",
     "output_type": "stream",
     "text": [
      "\r",
      " 60%|█████████████████████████████████████████████████▊                                 | 3/5 [17:59<11:56, 358.36s/it]"
     ]
    },
    {
     "name": "stdout",
     "output_type": "stream",
     "text": [
      "6142 4407 2824 2646\n",
      "6135 2398 4833 2653\n",
      "6051 2468 4763 2737\n",
      "6067 2425 4806 2721\n",
      "5144 3609 3622 3644\n",
      "4581 2346 4885 4207\n"
     ]
    },
    {
     "name": "stderr",
     "output_type": "stream",
     "text": [
      "\r",
      " 80%|██████████████████████████████████████████████████████████████████▍                | 4/5 [23:23<05:47, 347.82s/it]"
     ]
    },
    {
     "name": "stdout",
     "output_type": "stream",
     "text": [
      "5906 4197 3088 2828\n",
      "6116 2476 4809 2618\n",
      "6044 2563 4722 2690\n",
      "6040 2517 4768 2694\n",
      "5075 3629 3656 3659\n",
      "4550 2432 4853 4184\n"
     ]
    },
    {
     "name": "stderr",
     "output_type": "stream",
     "text": [
      "\r",
      "100%|███████████████████████████████████████████████████████████████████████████████████| 5/5 [29:02<00:00, 345.33s/it]"
     ]
    }
   ],
   "source": [
    "#Second cross validation to evaluate result\n",
    "group = splitGroup(5)\n",
    "XkFold = [[X[J] for J in K]for K in group]\n",
    "YkFold = [[y[J] for J in K]for K in group]\n",
    "mreTotal = [0 for I in clfOption]\n",
    "t = tqdm.tqdm(total=5)\n",
    "for I in range(5):\n",
    "    xTrain = []\n",
    "    yTrain = []\n",
    "    \n",
    "    xTest  = []\n",
    "    yTest = []\n",
    "    \n",
    "    for J in range(5):\n",
    "        if J == I:\n",
    "            for L in XkFold[J]:\n",
    "                sentence = L\n",
    "                newSentence = \"\"\n",
    "                for K in sentence:\n",
    "                    if K.isalpha():\n",
    "                        newSentence += K\n",
    "                    else:\n",
    "                        newSentence += \" \"\n",
    "                xTest.append(newSentence)\n",
    "            yTest.extend(YkFold[J])\n",
    "        else:\n",
    "            for L in XkFold[J]:\n",
    "                sentence = L\n",
    "                newSentence = \"\"\n",
    "                for K in sentence:\n",
    "                    if K.isalpha():\n",
    "                        newSentence += K\n",
    "                    else:\n",
    "                        newSentence += \" \"\n",
    "                xTrain.append(newSentence)\n",
    "            yTrain.extend(YkFold[J])\n",
    "            \n",
    "    xTrain , yTrain = balancedTrain(xTrain,yTrain)\n",
    "    trainVector = counterList[index].transform(xTrain)\n",
    "    testVector  = counterList[index].transform(xTest)\n",
    "        \n",
    "    trainVector = selectList[index].transform(trainVector)\n",
    "    testVector  = selectList[index].transform(testVector)\n",
    "\n",
    "    for J in range(len(clfOption)):\n",
    "        clfOption[J].fit(trainVector,yTrain)\n",
    "        prediction = clfOption[J].predict(testVector)\n",
    "        mreTotal[J] += mrc(prediction,yTest)\n",
    "    t.update()"
   ]
  },
  {
   "cell_type": "code",
   "execution_count": 12,
   "metadata": {},
   "outputs": [
    {
     "name": "stdout",
     "output_type": "stream",
     "text": [
      "Gradient Boosting -> 0.097475\n",
      "Logistic Regression -> 0.365742\n",
      "Naive Bayes -> 0.350733\n",
      "Linear SVC -> 0.354653\n",
      "K nearest neighbor -> 0.087914\n",
      "Random forest -> 0.184818\n"
     ]
    }
   ],
   "source": [
    "name = [\"Gradient Boosting\",\"Logistic Regression\",\"Naive Bayes\",\"Linear SVC\",\"K nearest neighbor\",\"Random forest\"]\n",
    "assert len(name) == len(mreTotal)\n",
    "for I in range(len(name)):\n",
    "    print(\"%s -> %f\" % (name[I],mreTotal[I]/5))"
   ]
  },
  {
   "cell_type": "markdown",
   "metadata": {},
   "source": [
    "Chronological prediction"
   ]
  },
  {
   "cell_type": "code",
   "execution_count": 13,
   "metadata": {
    "collapsed": true
   },
   "outputs": [],
   "source": [
    "d = Database()\n",
    "data = {}\n",
    "label = {}\n",
    "for I in result:\n",
    "    session = d.cariSesi(I[2],I[3])[0]\n",
    "    if session not in data:\n",
    "        data[session] = []\n",
    "        label[session] = I[1]\n",
    "    data[session].append(I[0])\n",
    "\n",
    "\n",
    "chronology = list(data.keys())"
   ]
  },
  {
   "cell_type": "code",
   "execution_count": 14,
   "metadata": {},
   "outputs": [
    {
     "data": {
      "text/plain": [
       "492"
      ]
     },
     "execution_count": 14,
     "metadata": {},
     "output_type": "execute_result"
    }
   ],
   "source": [
    "len(chronology)"
   ]
  },
  {
   "cell_type": "code",
   "execution_count": 15,
   "metadata": {
    "collapsed": true
   },
   "outputs": [],
   "source": [
    "def splitChronologyGroup(kFold):\n",
    "    #Me too lazy to plug in sklearn\n",
    "    index = [int(I) for I in range(len(chronology))]\n",
    "    random.shuffle(index)\n",
    "    group = [index[len(index)*I//kFold:len(index)*(I+1)//kFold] for I in range(kFold)]\n",
    "    return group"
   ]
  },
  {
   "cell_type": "code",
   "execution_count": 16,
   "metadata": {
    "collapsed": true
   },
   "outputs": [],
   "source": [
    "#Second cross validation to evaluate result\n",
    "group = splitChronologyGroup(5)\n",
    "XkFold = [[chronology[J] for J in K]for K in group]\n",
    "YkFold = [[label[chronology[J]] for J in K]for K in group]"
   ]
  },
  {
   "cell_type": "code",
   "execution_count": 19,
   "metadata": {
    "scrolled": true
   },
   "outputs": [
    {
     "name": "stderr",
     "output_type": "stream",
     "text": [
      "\n",
      "  0%|                                                                                            | 0/5 [00:00<?, ?it/s]\n"
     ]
    },
    {
     "name": "stdout",
     "output_type": "stream",
     "text": [
      "42 39 6 11\n",
      "52 4 41 1\n",
      "48 8 37 5\n",
      "52 5 40 1\n",
      "47 33 12 6\n",
      "16 7 38 37\n"
     ]
    },
    {
     "name": "stderr",
     "output_type": "stream",
     "text": [
      "\r",
      " 20%|████████████████▌                                                                  | 1/5 [05:51<23:24, 351.15s/it]"
     ]
    },
    {
     "name": "stdout",
     "output_type": "stream",
     "text": [
      "6 1 35 56\n",
      "62 1 35 0\n",
      "62 2 34 0\n",
      "62 1 35 0\n",
      "56 30 6 6\n",
      "14 1 35 48\n"
     ]
    },
    {
     "name": "stderr",
     "output_type": "stream",
     "text": [
      "\r",
      " 40%|█████████████████████████████████▏                                                 | 2/5 [11:57<17:47, 355.69s/it]"
     ]
    },
    {
     "name": "stdout",
     "output_type": "stream",
     "text": [
      "37 35 14 13\n",
      "49 5 44 1\n",
      "49 6 43 1\n",
      "49 3 46 1\n",
      "41 35 14 9\n",
      "16 7 42 34\n"
     ]
    },
    {
     "name": "stderr",
     "output_type": "stream",
     "text": [
      "\r",
      " 60%|█████████████████████████████████████████████████▊                                 | 3/5 [17:41<11:44, 352.10s/it]"
     ]
    },
    {
     "name": "stdout",
     "output_type": "stream",
     "text": [
      "3 3 45 47\n",
      "49 6 42 1\n",
      "46 10 38 4\n",
      "50 6 42 0\n",
      "44 42 6 6\n",
      "21 5 43 29\n"
     ]
    },
    {
     "name": "stderr",
     "output_type": "stream",
     "text": [
      "\r",
      " 80%|██████████████████████████████████████████████████████████████████▍                | 4/5 [23:23<05:49, 349.26s/it]"
     ]
    },
    {
     "name": "stdout",
     "output_type": "stream",
     "text": [
      "2 2 46 49\n",
      "50 0 48 1\n",
      "48 0 48 3\n",
      "51 1 47 0\n",
      "47 40 8 4\n",
      "20 3 45 31\n"
     ]
    },
    {
     "name": "stderr",
     "output_type": "stream",
     "text": [
      "\r",
      "100%|███████████████████████████████████████████████████████████████████████████████████| 5/5 [29:57<00:00, 362.45s/it]"
     ]
    }
   ],
   "source": [
    "mreTotal = [0 for I in clfOption]\n",
    "#Second cross validation to evaluate result\n",
    "group = splitChronologyGroup(5)\n",
    "XkFold = [[chronology[J] for J in K]for K in group]\n",
    "YkFold = [[label[chronology[J]] for J in K]for K in group]\n",
    "\n",
    "t = tqdm.tqdm(total=5)\n",
    "for I in range(5):\n",
    "    xTrain = []\n",
    "    yTrain = []\n",
    "    \n",
    "    xTest  = []\n",
    "    yTest = []\n",
    "    \n",
    "    for J in range(5):\n",
    "        if J != I:\n",
    "            for K in XkFold[J]:\n",
    "                for L in data[K]:\n",
    "                    sentence = L\n",
    "                    newSentence = \"\"\n",
    "                    for M in sentence:\n",
    "                        if M.isalpha():\n",
    "                            newSentence += M\n",
    "                        else:\n",
    "                            newSentence += \" \"\n",
    "                    xTrain.append(newSentence)\n",
    "                    yTrain.append(label[K])\n",
    "        else:\n",
    "            for K in XkFold[J]:\n",
    "                xTest.append([])\n",
    "                for L in data[K]:\n",
    "                    sentence = L\n",
    "                    newSentence = \"\"\n",
    "                    for M in sentence:\n",
    "                        if M.isalpha():\n",
    "                            newSentence += M\n",
    "                        else:\n",
    "                            newSentence += \" \"\n",
    "                    xTest[-1].append(newSentence)\n",
    "                yTest.append(label[K])\n",
    "            \n",
    "    xTrain , yTrain = balancedTrain(xTrain,yTrain)\n",
    "    trainVector = counterList[index].transform(xTrain)\n",
    "    testVector  = [counterList[index].transform(J) for J in xTest]\n",
    "        \n",
    "    trainVector = selectList[index].transform(trainVector)\n",
    "    testVector  = [selectList[index].transform(J) for J in testVector]\n",
    "\n",
    "    for J in range(len(clfOption)):\n",
    "        clfOption[J].fit(trainVector,yTrain)\n",
    "        prediction = [[-1,1][sum(clfOption[J].predict(K))>0] for K in testVector]\n",
    "        mreTotal[J] += mrc(prediction,yTest)\n",
    "    t.update()"
   ]
  },
  {
   "cell_type": "code",
   "execution_count": 20,
   "metadata": {},
   "outputs": [
    {
     "name": "stdout",
     "output_type": "stream",
     "text": [
      "Gradient Boosting -> 0.009783\n",
      "Logistic Regression -> 0.919899\n",
      "Naive Bayes -> 0.842482\n",
      "Linear SVC -> 0.928164\n",
      "K nearest neighbor -> 0.113635\n",
      "Random forest -> 0.278932\n"
     ]
    }
   ],
   "source": [
    "name = [\"Gradient Boosting\",\"Logistic Regression\",\"Naive Bayes\",\"Linear SVC\",\"K nearest neighbor\",\"Random forest\"]\n",
    "assert len(name) == len(mreTotal)\n",
    "for I in range(len(name)):\n",
    "    print(\"%s -> %f\" % (name[I],mreTotal[I]/5))"
   ]
  },
  {
   "cell_type": "code",
   "execution_count": null,
   "metadata": {
    "collapsed": true
   },
   "outputs": [],
   "source": []
  }
 ],
 "metadata": {
  "kernelspec": {
   "display_name": "Python 3",
   "language": "python",
   "name": "python3"
  }
 },
 "nbformat": 4,
 "nbformat_minor": 2
}
